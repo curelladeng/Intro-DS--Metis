{
 "cells": [
  {
   "cell_type": "markdown",
   "metadata": {},
   "source": [
    "For this lab, you are going to be combining the fare data you used in the first homework with some trip data about those same exact taxi rides.\n",
    "\n",
    "Here is the schema of the trip dataset, found in `trip_data_500k.csv`:\n",
    "\n",
    "* `medallion`: The ID of the cab being operated\n",
    "* `hack_license`: The ID of the person operating the cab\n",
    "* `vendor_id`: The type of vendor operating the cab, can either be `CMT` or `VTS`, no clue what these two types mean\n",
    "* `rate_code`: Designates the kind of ride this is, must be `1` through `6`, any other number is incorrect\n",
    "* `store_and_fwd_flag`: Can be either `Y`,`N`, or Nan\n",
    "* `pickup_datetime`: The time when the ride started\n",
    "* `dropoff_datetime`: The time when the ride ended\n",
    "* `passenger_count`: The number of passengers during the ride\n",
    "* `trip_time_in_secs`: How long the trip took\n",
    "* `trip_distance`: Distance of the trip, to the nearest 1/10 mile\n",
    "* `pickup_longitude`: Longitude of pickup location\n",
    "* `pickup_latitude`: Latitude of pickup location\n",
    "* `dropoff_longitude`: Longitude of dropoff location\n",
    "* `dropoff_latitude`: Latitude of dropoff location\n",
    "\n",
    "And here is the schema for the fare dataset, as a refresher (you're going to be using it too :)), found in `trip_fare_500k.csv`:\n",
    "\n",
    "* `medallion`: The ID of the cab being operated\n",
    "* `hack_license`: The ID of the person operating the cab\n",
    "* `vendor_id`: The type of vendor operating the cab, can either be `CMT` or `VTS`, no clue what these two types mean\n",
    "* `pickup_datetime`: The time when the ride started\n",
    "* `payment_type`: How the trip was paid, `UNK` stands for unknown, I have no idea what `NOC` stands for, but lets assume its some known way to pay\n",
    "* `fare_amount`: Base fare cost of the trip\n",
    "* `surcharge`: Additional charges that are not tolls\n",
    "* `mta_tax`: The mta has to get its cut, right? :)\n",
    "* `tip_amount`: How generous the rider(s) decided to be\n",
    "* `tolls_amount`: How much money you had to pay in tolls\n",
    "* `total_amount`: How much the trip cost, all in\n",
    "\n",
    "One final piece of information you will need, the approximate latitude/longitude bounds of a bounding box centered around each borough in NYC:\n",
    "\n",
    "* Queens,40.800760,40.542920,-73.700272,-73.962616\n",
    "* Manhattan,40.874663,40.701293,-73.910759,-74.018721\n",
    "* Bronx,40.915255,40.785743,-73.765274,-73.933406\n",
    "* Brooklyn,40.739877,40.57042,-73.864754,-74.04344\n",
    "* Staten Island,40.651812,40.477399,-74.034547,-74.259090"
   ]
  },
  {
   "cell_type": "markdown",
   "metadata": {},
   "source": [
    "So, as was the case with the last lab, you are going to be tasked with answering a whole slew of questions about these data, except the questions here should be significantly more challenging.\n",
    "\n",
    "Before beginning, please:\n",
    "\n",
    "1. Remove any rides that did not have an appropriate `rate_code` \n",
    "* Convert pickup and dropoff locations from latitude/longitude to (approximate) borough. This will be very challening. I suggest the following approach, although you can try others:\n",
    "  1. Calculate the exact center of each borough's bounding box and store each in a new variable (you should have one of these per borough, so 5 variables)\n",
    "  * Find the distance from the given ride's pickup/dropoff location and the center of each borough found in A. \n",
    "  * Pick the borough that had the smallest distance from the given location to its bounding box center. (this is messy because it ignores cases where the start/end location isn't in the 5 boroughs, but its the best we can do with the information you're provided)\n",
    "* Once this is done, join the `trip_data` and `fare_data` datasets together. You will need to join the datasets on more than one column, but you will have to figure out what those columns are!"
   ]
  },
  {
   "cell_type": "markdown",
   "metadata": {},
   "source": [
    "Once you've gotten the preprocessing out of the way, answer the following questions:\n",
    "\n",
    "1. What was the most common borough start location?\n",
    "  * End location?\n",
    "  * Pair of start/end locations? Excluding manhattan/manhattan?\n",
    "* Which driver (`hack_license`) carried the most passengers, on average?\n",
    "* Which driver had the highest tip percentage, on average, for those drivers that made at least 5 trips in the dataset?\n",
    "* Was there any relationship between (correlation) when a taxi ride ended (get the closest minute within the day) and the tip percentage on the fare?\n",
    "* Did the trip time correlate with the cost of the trip?\n",
    "  * What about the tip amount?\n",
    "* Which cab tended to generate the most revenue, on average, when picking people up in Manhattan?\n",
    "* What was the average cost of all of the trips that originated in Brooklyn?\n",
    "* Which driver made the most money overall? Assume the only money made was from tips.\n",
    "  * Which driver made the most money on average?\n",
    "  * Which driver made the most money in each borough?\n",
    "* What was the average trip distance and trip cost for intra-borough (same starting/ending borough) trips?\n",
    "  1. For inter-borough (different starting/ending borough) trips?\n",
    "* Which borough had the cheapest tippers (had the smallest average tip percentage)? Assume that if a trip starts within some borough, then that trip belongs in that borough.\n",
    "* Which driver logged the most miles in this dataset?\n",
    "* What was the average toll amount for intra-borough rides? For inter-borough  rides?"
   ]
  },
  {
   "cell_type": "code",
   "execution_count": 1,
   "metadata": {},
   "outputs": [],
   "source": [
    "import pandas as pd\n",
    "import numpy as np\n",
    "from geopy.distance import great_circle"
   ]
  },
  {
   "cell_type": "code",
   "execution_count": 2,
   "metadata": {},
   "outputs": [],
   "source": [
    "queensCenter = ((40.800760+40.542920)/2,(-73.700272-73.962616)/2)\n",
    "brookCenter = ((40.739877+40.57042)/2,(-73.864754-74.04344)/2)\n",
    "bronxCenter = ((40.915255+40.785743)/2,(-73.765274-73.933406)/2)\n",
    "manhattanCenter = ((40.874663+40.701293)/2,(-73.910759-74.018721)/2)\n",
    "siCenter = ((40.651812+40.477399)/2,(-74.034547-74.259090)/2)\n",
    "boroughDict = {}\n",
    "boroughDict[\"queens\"] = queensCenter\n",
    "boroughDict[\"brooklyn\"] = brookCenter\n",
    "boroughDict[\"bronx\"] = bronxCenter\n",
    "boroughDict[\"manhattan\"] = manhattanCenter\n",
    "boroughDict[\"staten\"] = siCenter\n",
    "\n",
    "#This function returns the string representation of the likely borough, given a set of latitude/longitude coordinates\n",
    "#If the distance to the borough center is too far away from the closest borough, we assume that the location\n",
    "#is outside of NYC\n",
    "def get_closest_borough(latitude,longitude,max_dist = 20):\n",
    "    global boroughDict\n",
    "    borough_distances = {borough:great_circle(boroughDict[borough],(latitude,longitude)).miles for borough in boroughDict}\n",
    "    min_borough = min(borough_distances, key=borough_distances.get)\n",
    "    if borough_distances[min_borough] < max_dist:\n",
    "        return min_borough \n",
    "    else:\n",
    "        return \"outside_nyc\""
   ]
  },
  {
   "cell_type": "code",
   "execution_count": 4,
   "metadata": {},
   "outputs": [],
   "source": [
    "trips = pd.read_csv(\"../data/nycTaxiData/trip_data_500k.csv\")\n",
    "fares = pd.read_csv(\"../data/nycTaxiData/trip_fare_500k.csv\")"
   ]
  },
  {
   "cell_type": "code",
   "execution_count": 13,
   "metadata": {},
   "outputs": [],
   "source": [
    "#remove bad records from the dataset as some latitudes were not correctly reported\n",
    "trips = trips[trips.pickup_latitude<=90]\n",
    "trips = trips[trips.pickup_latitude>=-90]\n",
    "trips = trips[trips.dropoff_latitude>=-90]\n",
    "trips = trips[trips.dropoff_latitude<=90]"
   ]
  },
  {
   "cell_type": "code",
   "execution_count": 14,
   "metadata": {},
   "outputs": [],
   "source": [
    "trips[\"pickup_borough\"] = trips.apply(\\\n",
    "                        lambda x:\\\n",
    "                                get_closest_borough(x['pickup_latitude'],\n",
    "                                                    x['pickup_longitude']),\n",
    "                                      axis=1)\n",
    "trips[\"dropoff_borough\"] = trips.apply(\\\n",
    "                        lambda x:\\\n",
    "                                get_closest_borough(x['dropoff_latitude'],\n",
    "                                                    x['dropoff_longitude']),\n",
    "                                      axis=1)"
   ]
  },
  {
   "cell_type": "code",
   "execution_count": 5,
   "metadata": {},
   "outputs": [],
   "source": [
    "full_data = trips.merge(fares,on=[\"medallion\",\"hack_license\",\"vendor_id\",\"pickup_datetime\"])\n",
    "del full_data[\"pickup_latitude\"]\n",
    "del full_data[\"pickup_longitude\"]\n",
    "del full_data[\"dropoff_longitude\"]\n",
    "del full_data[\"dropoff_latitude\"]"
   ]
  },
  {
   "cell_type": "code",
   "execution_count": 6,
   "metadata": {},
   "outputs": [
    {
     "name": "stdout",
     "output_type": "stream",
     "text": [
      "manhattan\n",
      "manhattan\n"
     ]
    }
   ],
   "source": [
    "# 1. What was the most common borough start location?\n",
    "print(full_data.pickup_borough.value_counts().index[0])\n",
    "#   * End location?\n",
    "print(full_data.dropoff_borough.value_counts().index[0])"
   ]
  },
  {
   "cell_type": "code",
   "execution_count": 7,
   "metadata": {},
   "outputs": [
    {
     "name": "stdout",
     "output_type": "stream",
     "text": [
      "('manhattan', 'manhattan')\n",
      "('manhattan', 'brooklyn')\n"
     ]
    }
   ],
   "source": [
    "#   * Pair of start/end locations?\n",
    "pick_drop_comb_sizes = full_data.groupby([\"pickup_borough\",\"dropoff_borough\"]).size()\n",
    "pick_drop_comb_sizes.sort_values(ascending=False,inplace=True)\n",
    "print(pick_drop_comb_sizes.index[0])\n",
    "# Excluding manhattan/manhattan?\n",
    "print(pick_drop_comb_sizes[~pick_drop_comb_sizes.index.isin([(\"manhattan\",\"manhattan\")])].index[0])"
   ]
  },
  {
   "cell_type": "code",
   "execution_count": 8,
   "metadata": {},
   "outputs": [
    {
     "data": {
      "text/plain": [
       "hack_license\n",
       "DF1338A98DAA39B20B528EEC54081A3D    6.0\n",
       "520B738CBE7F00D4E2B0BC20EB10F632    6.0\n",
       "0A877DA2820B8CB9EF54702D80609A6F    6.0\n",
       "F7520959F030ECCD11C85F3B7C23EB4D    6.0\n",
       "8B6D35967E3EF52C75E0E97F7DC8C13E    6.0\n",
       "1FA8048B64BB78D6989C17D8FA89833E    6.0\n",
       "458D14DB813121C1CE7AB9F3956959FF    6.0\n",
       "BCBC4DC29AA98BEEBE373FDCBA69A0C1    6.0\n",
       "66D0CB86A84D35070AA1ABC3F1BFBC2A    6.0\n",
       "BC76B34FA77F0FA0B931827A847815AC    6.0\n",
       "8BF2F2FB341011F4B50A3F617342E535    6.0\n",
       "C73CC5B4772C0803021069CFBB259510    6.0\n",
       "BC06BC4CB757E3F09B1F65C055ADC51B    6.0\n",
       "F7299385AADB0C60DF07149C3239B7C7    6.0\n",
       "F703AE4563AA348787DB26458372E5F3    6.0\n",
       "35238090BD3CE4ACF47FEBFDD023A381    6.0\n",
       "205994280475874B569FC4213BC36605    6.0\n",
       "BB417F8F75B387F11F4AA9BD2359A3B0    6.0\n",
       "BAEEBF42684943FEE0D2C227E46A934F    6.0\n",
       "8D13DF4AFDE3F36B931990502191E5DE    6.0\n",
       "BD40831DBE6C587175967E26DC9219EF    6.0\n",
       "F76223B653DA42726DC7D41F32F08F4E    6.0\n",
       "8AF8551CD00D18548E3C723BBAEDF414    6.0\n",
       "5C8BAF38B31932AD0D52C43107716FCD    6.0\n",
       "BE381B7969C0BC767DCDA7974BF6B875    6.0\n",
       "1ED9C5C48FFBF66FF5B6938C1968BA23    6.0\n",
       "E8860DDC8585C4D636A77E48A896548E    6.0\n",
       "BDE7AAE46EA4208DCE0EAC5BD35173BF    6.0\n",
       "E89ABAD7D02B32D3F675E89F3357BDDA    6.0\n",
       "BDCF25E3D8D9C70D6D67829671665ABD    6.0\n",
       "                                   ... \n",
       "1A4524BEB6E1CFE6C2F5E5A9BA1C49AE    6.0\n",
       "151BA696A8F55BA9264BB90F4D413A8B    6.0\n",
       "6DED23ACF8994CDF21EB4E0F83687A2A    6.0\n",
       "DCF56DBA89543EF8C3DDF78E3358CAFE    6.0\n",
       "41CC81A71A3C769F474DDADE518D7E48    6.0\n",
       "FB0B22C099ECDF75533BF821442F1833    6.0\n",
       "5554F23D80729FA4E820F344E3F9BA40    6.0\n",
       "4C05E2208BA64AFC8D4E51D121996339    6.0\n",
       "C995115A1BEE6B60ABDECFA576FAD703    6.0\n",
       "C9966F13B419E364AA3D5EF5F06BD000    6.0\n",
       "C9BE4D5E69B26096AA6EFA6D8CBE1A49    6.0\n",
       "4DA0E3D3FB557DD7D55D950FE460456E    6.0\n",
       "DC7F87794AC7FDA5C7BA9BBEEBF32E2B    6.0\n",
       "E24AEF2B9E6936A9E21C88EDD61A1DE3    6.0\n",
       "3DEE79430FC260A7D2276CA9CA46021E    6.0\n",
       "416CD60E2BA6609899DF211F3830403B    6.0\n",
       "6F884B9D4E8AC5CFBDD1112046E9C9D6    6.0\n",
       "56A8AAA9146D3289B9B936E3BE6B2238    6.0\n",
       "77233F224626A1A3E5425938DCC82137    6.0\n",
       "D3C8FB6605D1388DA88806CE488FD02E    6.0\n",
       "DBB4050375043CB75CCABF5A41274933    6.0\n",
       "7DF24962858A4FC9964BDBF7872BB446    6.0\n",
       "CA8A2B6985A95D81618FDD1CDA971CB8    6.0\n",
       "19269BF987DE73F57F5C69DE9AD848BB    6.0\n",
       "4D5DD72C63FF0C5EE19DD382855312FD    6.0\n",
       "D5AC6D75DBD2CAA2883E0BD6132D2FA0    6.0\n",
       "011707FD64AD1EBEA42A17AB71CB12BD    6.0\n",
       "C94C6AE124E3C7A959F30EA6A134A587    6.0\n",
       "755F6A546DAC1DBA301A08D835AABAB3    6.0\n",
       "DCF84102B9356992B29700E9F540D28D    6.0\n",
       "Name: passenger_count, dtype: float64"
      ]
     },
     "execution_count": 8,
     "metadata": {},
     "output_type": "execute_result"
    }
   ],
   "source": [
    "# * Which driver (`hack_license`) carried the most passengers, on average?\n",
    "pass_per_hack = full_data.groupby(\"hack_license\")[\"passenger_count\"].mean()\n",
    "pass_per_hack.sort_values(ascending=False,inplace=True)\n",
    "pass_per_hack[pass_per_hack==pass_per_hack.max()]"
   ]
  },
  {
   "cell_type": "code",
   "execution_count": 9,
   "metadata": {
    "collapsed": true
   },
   "outputs": [],
   "source": [
    "full_data[\"tip_percent\"] = full_data.tip_amount/full_data.fare_amount"
   ]
  },
  {
   "cell_type": "code",
   "execution_count": 12,
   "metadata": {},
   "outputs": [
    {
     "data": {
      "text/plain": [
       "hack_license\n",
       "3B8AC94620C43B364A42B3A7D1439B68    5.888636\n",
       "Name: tip_percent, dtype: float64"
      ]
     },
     "execution_count": 12,
     "metadata": {},
     "output_type": "execute_result"
    }
   ],
   "source": [
    "# * Which driver had the highest tip percentage, on average,\n",
    "#for those drivers that made at least 5 trips in the dataset?\n",
    "atleast_5_rides = full_data.groupby(\"hack_license\").filter(lambda x: x.shape[0]>5)\n",
    "driver_tips = atleast_5_rides.groupby(\"hack_license\")[\"tip_percent\"].mean()\n",
    "driver_tips.sort_values(ascending=False,inplace=True)\n",
    "driver_tips.head(1)"
   ]
  },
  {
   "cell_type": "code",
   "execution_count": 25,
   "metadata": {},
   "outputs": [
    {
     "data": {
      "text/plain": [
       "0.015118706841059299"
      ]
     },
     "execution_count": 25,
     "metadata": {},
     "output_type": "execute_result"
    }
   ],
   "source": [
    "# * Was there any relationship between (correlation) when a taxi ride ended \n",
    "#(get the closest minute within the day) and the tip percentage on the fare?\n",
    "full_data.dropoff_datetime = pd.to_datetime(full_data.dropoff_datetime)\n",
    "(full_data.dropoff_datetime.dt.hour * 60 + full_data.dropoff_datetime.dt.minute).corr(full_data.tip_percent)"
   ]
  },
  {
   "cell_type": "code",
   "execution_count": 27,
   "metadata": {},
   "outputs": [
    {
     "name": "stdout",
     "output_type": "stream",
     "text": [
      "0.789873169267\n"
     ]
    },
    {
     "data": {
      "text/plain": [
       "0.44367923374265394"
      ]
     },
     "execution_count": 27,
     "metadata": {},
     "output_type": "execute_result"
    }
   ],
   "source": [
    "# * Did the trip time correlate with the cost of the trip?\n",
    "print(full_data.trip_time_in_secs.corr(full_data.total_amount))\n",
    "#   * What about the tip amount?\n",
    "full_data.trip_time_in_secs.corr(full_data.tip_amount)"
   ]
  },
  {
   "cell_type": "code",
   "execution_count": 31,
   "metadata": {},
   "outputs": [
    {
     "data": {
      "text/plain": [
       "medallion\n",
       "9AE01AEEA2E4D0A9BBDA62946FCE81D0    84.0\n",
       "Name: total_amount, dtype: float64"
      ]
     },
     "execution_count": 31,
     "metadata": {},
     "output_type": "execute_result"
    }
   ],
   "source": [
    "# * Which cab tended to generate the most revenue, on average, when picking people up in Manhattan?\n",
    "avg_per_manh_cab_revenue = full_data[full_data.pickup_borough=='manhattan'].groupby(\"medallion\")[\"total_amount\"].mean()\n",
    "avg_per_manh_cab_revenue[avg_per_manh_cab_revenue==avg_per_manh_cab_revenue.max()]"
   ]
  },
  {
   "cell_type": "code",
   "execution_count": 32,
   "metadata": {},
   "outputs": [
    {
     "data": {
      "text/plain": [
       "pickup_borough\n",
       "brooklyn    16.172874\n",
       "Name: total_amount, dtype: float64"
      ]
     },
     "execution_count": 32,
     "metadata": {},
     "output_type": "execute_result"
    }
   ],
   "source": [
    "# * What was the average cost of all of the trips that originated in Brooklyn?\n",
    "per_borough_pickup_avg_cost = full_data.groupby(\"pickup_borough\")[\"total_amount\"].mean()\n",
    "per_borough_pickup_avg_cost[per_borough_pickup_avg_cost.index == 'brooklyn']"
   ]
  },
  {
   "cell_type": "code",
   "execution_count": 35,
   "metadata": {},
   "outputs": [
    {
     "name": "stderr",
     "output_type": "stream",
     "text": [
      "/usr/local/lib/python2.7/site-packages/ipykernel/__main__.py:3: FutureWarning: sort is deprecated, use sort_values(inplace=True) for INPLACE sorting\n",
      "  app.launch_new_instance()\n"
     ]
    },
    {
     "data": {
      "text/plain": [
       "hack_license\n",
       "BD0913D639AA03DA954EA97E2A3A1101    225.34\n",
       "Name: tip_amount, dtype: float64"
      ]
     },
     "execution_count": 35,
     "metadata": {},
     "output_type": "execute_result"
    }
   ],
   "source": [
    "# * Which driver made the most money overall? Assume the only money made was from tips.\n",
    "per_driver_revenue = full_data.groupby(\"hack_license\")[\"tip_amount\"].sum()\n",
    "per_driver_revenue.sort_values(ascending=False, inplace =True)\n",
    "per_driver_revenue.head(1)"
   ]
  },
  {
   "cell_type": "code",
   "execution_count": 36,
   "metadata": {},
   "outputs": [
    {
     "name": "stderr",
     "output_type": "stream",
     "text": [
      "/usr/local/lib/python2.7/site-packages/ipykernel/__main__.py:3: FutureWarning: sort is deprecated, use sort_values(inplace=True) for INPLACE sorting\n",
      "  app.launch_new_instance()\n"
     ]
    },
    {
     "data": {
      "text/plain": [
       "hack_license\n",
       "3E8BC9829EE46234B580C2DA5ED69C0C    30.69\n",
       "Name: tip_amount, dtype: float64"
      ]
     },
     "execution_count": 36,
     "metadata": {},
     "output_type": "execute_result"
    }
   ],
   "source": [
    "#   * Which driver made the most money on average?\n",
    "per_driver_avg_revenue = full_data.groupby(\"hack_license\")[\"tip_amount\"].mean()\n",
    "per_driver_avg_revenue.sort_values(ascending=False, inplace =True)\n",
    "per_driver_avg_revenue.head(1)"
   ]
  },
  {
   "cell_type": "code",
   "execution_count": 45,
   "metadata": {},
   "outputs": [
    {
     "data": {
      "text/html": [
       "<div>\n",
       "<table border=\"1\" class=\"dataframe\">\n",
       "  <thead>\n",
       "    <tr style=\"text-align: right;\">\n",
       "      <th></th>\n",
       "      <th></th>\n",
       "      <th>hack_license</th>\n",
       "      <th>tip_amount</th>\n",
       "    </tr>\n",
       "    <tr>\n",
       "      <th>pickup_borough</th>\n",
       "      <th></th>\n",
       "      <th></th>\n",
       "      <th></th>\n",
       "    </tr>\n",
       "  </thead>\n",
       "  <tbody>\n",
       "    <tr>\n",
       "      <th>bronx</th>\n",
       "      <th>57</th>\n",
       "      <td>427DE707D035285C19D538711B6E36FF</td>\n",
       "      <td>54.68</td>\n",
       "    </tr>\n",
       "    <tr>\n",
       "      <th>brooklyn</th>\n",
       "      <th>882</th>\n",
       "      <td>0F8CD038D26AB9254A8566FC646B3157</td>\n",
       "      <td>83.80</td>\n",
       "    </tr>\n",
       "    <tr>\n",
       "      <th>manhattan</th>\n",
       "      <th>14298</th>\n",
       "      <td>44FBBE4EFBE80F8CA9E3C1CD88A5619A</td>\n",
       "      <td>205.51</td>\n",
       "    </tr>\n",
       "    <tr>\n",
       "      <th>outside_nyc</th>\n",
       "      <th>25476</th>\n",
       "      <td>3B8AC94620C43B364A42B3A7D1439B68</td>\n",
       "      <td>160.00</td>\n",
       "    </tr>\n",
       "    <tr>\n",
       "      <th>queens</th>\n",
       "      <th>30853</th>\n",
       "      <td>E6CB1818691BA4D223F1E148CE727864</td>\n",
       "      <td>109.80</td>\n",
       "    </tr>\n",
       "    <tr>\n",
       "      <th>staten</th>\n",
       "      <th>31318</th>\n",
       "      <td>317799A8C9027ED5E9CBB1DEB38238D9</td>\n",
       "      <td>87.00</td>\n",
       "    </tr>\n",
       "  </tbody>\n",
       "</table>\n",
       "</div>"
      ],
      "text/plain": [
       "                                          hack_license  tip_amount\n",
       "pickup_borough                                                    \n",
       "bronx          57     427DE707D035285C19D538711B6E36FF       54.68\n",
       "brooklyn       882    0F8CD038D26AB9254A8566FC646B3157       83.80\n",
       "manhattan      14298  44FBBE4EFBE80F8CA9E3C1CD88A5619A      205.51\n",
       "outside_nyc    25476  3B8AC94620C43B364A42B3A7D1439B68      160.00\n",
       "queens         30853  E6CB1818691BA4D223F1E148CE727864      109.80\n",
       "staten         31318  317799A8C9027ED5E9CBB1DEB38238D9       87.00"
      ]
     },
     "execution_count": 45,
     "metadata": {},
     "output_type": "execute_result"
    }
   ],
   "source": [
    "#   * Which driver made the most money in each borough?\n",
    "per_driver_borough_revenue = full_data.groupby([\"pickup_borough\",\"hack_license\"])[\"tip_amount\"].sum().reset_index()\n",
    "per_driver_borough_revenue.groupby(\"pickup_borough\").apply(lambda x: x[[\"hack_license\",\"tip_amount\"]][x.tip_amount==x.tip_amount.max()])"
   ]
  },
  {
   "cell_type": "code",
   "execution_count": 53,
   "metadata": {},
   "outputs": [
    {
     "name": "stdout",
     "output_type": "stream",
     "text": [
      "Trip distance and cost intraborough:\n",
      "trip_distance     2.175694\n",
      "total_amount     11.928908\n",
      "dtype: float64 \n",
      "\n",
      "Same but for interborough rides:\n",
      "trip_distance     7.188409\n",
      "total_amount     28.078621\n",
      "dtype: float64 \n",
      "\n",
      "Cheapest tippers:\n",
      "dropoff_borough\n",
      "bronx          0.073805\n",
      "brooklyn       0.109801\n",
      "manhattan      0.105904\n",
      "outside_nyc    0.137292\n",
      "queens         0.087671\n",
      "staten         0.171467\n",
      "Name: tip_percent, dtype: float64 \n",
      "\n",
      "hack_license\n",
      "15589D617DB1B13418DE284711599A7D    453.77\n",
      "Name: trip_distance, dtype: float64 \n",
      "\n",
      "Toll amount intraborough:\n",
      "tolls_amount    0.178392\n",
      "dtype: float64 \n",
      "\n",
      "Toll amount interborough:\n",
      "tolls_amount    0.78012\n",
      "dtype: float64\n"
     ]
    },
    {
     "name": "stderr",
     "output_type": "stream",
     "text": [
      "/usr/local/lib/python2.7/site-packages/ipykernel/__main__.py:13: FutureWarning: sort is deprecated, use sort_values(inplace=True) for INPLACE sorting\n"
     ]
    }
   ],
   "source": [
    "# * What was the average trip distance and trip cost for intra-borough (same starting/ending borough) trips?\n",
    "print(\"Trip distance and cost intraborough:\\n\",full_data[full_data.pickup_borough==\n",
    "                                            full_data.dropoff_borough][[\"trip_distance\",\n",
    "                                                                        \"total_amount\"]].mean(),\"\\n\")\n",
    "#   1. For inter-borough (different starting/ending borough) trips?\n",
    "print(\"Same but for interborough rides:\\n\",full_data[full_data.pickup_borough!=\n",
    "                                                     full_data.dropoff_borough][[\"trip_distance\",\n",
    "                                                                                 \"total_amount\"]].mean(),\"\\n\")\n",
    "# * Which borough had the cheapest tippers (had the smallest average tip percentage)? Assume that if a trip starts within some borough, then that trip belongs in that borough.\n",
    "print(\"Cheapest tippers:\\n\",full_data.groupby([\"dropoff_borough\"])[\"tip_percent\"].mean(),\"\\n\")\n",
    "# * Which driver logged the most miles in this dataset?\n",
    "per_driver_mileage = full_data.groupby([\"hack_license\"])[\"trip_distance\"].sum()\n",
    "per_driver_mileage.sort_values(ascending=False,inplace=True)\n",
    "print(per_driver_mileage.head(1),\"\\n\")\n",
    "# * What was the average toll amount for intra-borough rides? For inter-borough  rides?\n",
    "print(\"Toll amount intraborough:\\n\",full_data[full_data.pickup_borough==\n",
    "                                            full_data.dropoff_borough][[\"tolls_amount\"]].mean(),\"\\n\")\n",
    "print(\"Toll amount interborough:\\n\",full_data[full_data.pickup_borough!=full_data.dropoff_borough][[\"tolls_amount\"]].mean())"
   ]
  }
 ],
 "metadata": {
  "kernelspec": {
   "display_name": "Python 3",
   "language": "python",
   "name": "python3"
  },
  "language_info": {
   "codemirror_mode": {
    "name": "ipython",
    "version": 3
   },
   "file_extension": ".py",
   "mimetype": "text/x-python",
   "name": "python",
   "nbconvert_exporter": "python",
   "pygments_lexer": "ipython3",
   "version": "3.8.4"
  }
 },
 "nbformat": 4,
 "nbformat_minor": 1
}
